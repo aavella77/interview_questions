{
  "nbformat": 4,
  "nbformat_minor": 0,
  "metadata": {
    "colab": {
      "name": "moveZeroes.ipynb",
      "provenance": [],
      "authorship_tag": "ABX9TyPyS4anAUnfhSAtnjrwWoC4",
      "include_colab_link": true
    },
    "kernelspec": {
      "name": "python3",
      "display_name": "Python 3"
    },
    "language_info": {
      "name": "python"
    }
  },
  "cells": [
    {
      "cell_type": "markdown",
      "metadata": {
        "id": "view-in-github",
        "colab_type": "text"
      },
      "source": [
        "<a href=\"https://colab.research.google.com/github/aavella77/interview_questions/blob/main/moveZeroes.ipynb\" target=\"_parent\"><img src=\"https://colab.research.google.com/assets/colab-badge.svg\" alt=\"Open In Colab\"/></a>"
      ]
    },
    {
      "cell_type": "markdown",
      "source": [
        "Move zeroes to the end of a string"
      ],
      "metadata": {
        "id": "fj5J2KtuLDYh"
      }
    },
    {
      "cell_type": "code",
      "execution_count": 6,
      "metadata": {
        "id": "f5AvdebvK-aC"
      },
      "outputs": [],
      "source": [
        "def moveZeroes(string):\n",
        "  idx = 0\n",
        "  for _ in range(len(string)):\n",
        "    if string[idx] == 0:\n",
        "      \"\"\" If it is zero remove from string, but do not increment counter \"\"\"\n",
        "      string.pop(idx)\n",
        "      string.append(0)\n",
        "    else:\n",
        "      \"\"\" If it is not zero, increment the counter \"\"\"\n",
        "      idx += 1 \n",
        "  return string        "
      ]
    },
    {
      "cell_type": "code",
      "source": [
        "print(moveZeroes([0,1,0,3,12]))\n",
        "print(moveZeroes([0,0,1]))\n",
        "print(moveZeroes([0,0,1,0,0,15,0]))"
      ],
      "metadata": {
        "colab": {
          "base_uri": "https://localhost:8080/"
        },
        "id": "YvZ_B2UTMCs5",
        "outputId": "46a87824-663e-4dac-a857-a208d78f25ff"
      },
      "execution_count": 9,
      "outputs": [
        {
          "output_type": "stream",
          "name": "stdout",
          "text": [
            "[1, 3, 12, 0, 0]\n",
            "[1, 0, 0]\n",
            "[1, 15, 0, 0, 0, 0, 0]\n"
          ]
        }
      ]
    }
  ]
}
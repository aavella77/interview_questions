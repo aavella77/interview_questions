{
  "nbformat": 4,
  "nbformat_minor": 0,
  "metadata": {
    "colab": {
      "name": "is_palindrome.ipynb",
      "provenance": [],
      "authorship_tag": "ABX9TyNT7wwSIoUR3FWeopgDB1I4",
      "include_colab_link": true
    },
    "kernelspec": {
      "name": "python3",
      "display_name": "Python 3"
    },
    "language_info": {
      "name": "python"
    }
  },
  "cells": [
    {
      "cell_type": "markdown",
      "metadata": {
        "id": "view-in-github",
        "colab_type": "text"
      },
      "source": [
        "<a href=\"https://colab.research.google.com/github/aavella77/interview_questions/blob/main/is_palindrome.ipynb\" target=\"_parent\"><img src=\"https://colab.research.google.com/assets/colab-badge.svg\" alt=\"Open In Colab\"/></a>"
      ]
    },
    {
      "cell_type": "markdown",
      "source": [
        "Write a function that determines whether a word is palidrome or not."
      ],
      "metadata": {
        "id": "Efq-6kalEBK8"
      }
    },
    {
      "cell_type": "code",
      "execution_count": 6,
      "metadata": {
        "id": "REIYvVKDEAR7"
      },
      "outputs": [],
      "source": [
        "def is_palindrome(word):\n",
        "  reversed_word = \"\".join(reversed(word))\n",
        "  if reversed_word == word:\n",
        "    return True\n",
        "  else:\n",
        "    return False"
      ]
    },
    {
      "cell_type": "code",
      "source": [
        "    print(is_palindrome(\"eadaf\"))        \n",
        "    print(is_palindrome(\"eadae\"))\n",
        "    print(is_palindrome(\"eaae\"))    \n",
        "    print(is_palindrome(\"alejandro\"))\n",
        "    print(is_palindrome(\"caaaaaabaaaaaac\"))"
      ],
      "metadata": {
        "colab": {
          "base_uri": "https://localhost:8080/"
        },
        "id": "Q3Nxrf04Efcp",
        "outputId": "5ce7e4f1-7904-48d5-9dca-b0a6762a9719"
      },
      "execution_count": 7,
      "outputs": [
        {
          "output_type": "stream",
          "name": "stdout",
          "text": [
            "False\n",
            "True\n",
            "True\n",
            "False\n",
            "True\n"
          ]
        }
      ]
    }
  ]
}